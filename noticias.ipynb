{
  "nbformat": 4,
  "nbformat_minor": 0,
  "metadata": {
    "colab": {
      "provenance": [],
      "authorship_tag": "ABX9TyNApEzn1A0PDD4o3gdc5u3R",
      "include_colab_link": true
    },
    "kernelspec": {
      "name": "python3",
      "display_name": "Python 3"
    },
    "language_info": {
      "name": "python"
    }
  },
  "cells": [
    {
      "cell_type": "markdown",
      "metadata": {
        "id": "view-in-github",
        "colab_type": "text"
      },
      "source": [
        "<a href=\"https://colab.research.google.com/github/DihogoFerreira/SI_AULA1/blob/main/noticias.ipynb\" target=\"_parent\"><img src=\"https://colab.research.google.com/assets/colab-badge.svg\" alt=\"Open In Colab\"/></a>"
      ]
    },
    {
      "cell_type": "code",
      "source": [
        "# Instala a biblioteca googlesearch-python\n",
        "#!pip install google\n",
        "\n",
        "# Importa a classe search da biblioteca googlesearch\n",
        "from googlesearch import search\n",
        "\n",
        "# Termo de pesquisa\n",
        "termo_pesquisa = \"Guerra na Ucrânia\"\n",
        "\n",
        "# Realiza a pesquisa no Google e armazena os resultados\n",
        "resultados = search(termo_pesquisa, num=6, stop=6, pause=2)\n",
        "\n",
        "# Exibe os tópicos correlatos e sinônimos encontrados nos resultados da pesquisa\n",
        "print(\"Tópicos correlatos e sinônimos para o termo de pesquisa '\" + termo_pesquisa + \"':\")\n",
        "for idx, resultado in enumerate(resultados):\n",
        "    print(f\"{idx + 1}. {resultado}\")"
      ],
      "metadata": {
        "colab": {
          "base_uri": "https://localhost:8080/"
        },
        "id": "hObnHKBG8itW",
        "outputId": "e2616ea2-c840-429e-9982-810eaef1e275"
      },
      "execution_count": 1,
      "outputs": [
        {
          "output_type": "stream",
          "name": "stdout",
          "text": [
            "Tópicos correlatos e sinônimos para o termo de pesquisa 'Guerra na Ucrânia':\n",
            "1. https://www.bbc.com/portuguese/articles/cj4v0rrn77vo\n",
            "2. https://www.rtp.pt/noticias/mundo/mil-dias-de-guerra-ucrania-lancou-misseis-de-longo-alcance-de-fabrico-norte-americano-na-russia_e1615899\n",
            "3. https://observador.pt/liveblogs/mil-dias-de-guerra-na-ucrania-irao-critica-novas-sancoes-da-ue-e-do-reino-unido-por-apoio-a-russia/\n",
            "4. https://www.cnnbrasil.com.br/tudo-sobre/guerra-na-ucrania/\n",
            "5. https://www.cnnbrasil.com.br/internacional/zelensky-diz-que-ucrania-impediu-avanco-russo-em-kursk-pelo-quinto-dia-seguido/\n",
            "6. https://www.cnnbrasil.com.br/internacional/ucrania-nega-vinculos-com-suspeito-de-aparente-tentativa-de-assassinato-contra-trump/\n"
          ]
        }
      ]
    }
  ]
}