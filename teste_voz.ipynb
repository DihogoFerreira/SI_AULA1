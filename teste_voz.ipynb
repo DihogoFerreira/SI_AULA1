{
  "nbformat": 4,
  "nbformat_minor": 0,
  "metadata": {
    "colab": {
      "provenance": [],
      "authorship_tag": "ABX9TyNseTbFbsBJ0RAs+svLgvP8",
      "include_colab_link": true
    },
    "kernelspec": {
      "name": "python3",
      "display_name": "Python 3"
    },
    "language_info": {
      "name": "python"
    }
  },
  "cells": [
    {
      "cell_type": "markdown",
      "metadata": {
        "id": "view-in-github",
        "colab_type": "text"
      },
      "source": [
        "<a href=\"https://colab.research.google.com/github/DihogoFerreira/SI_AULA1/blob/main/teste_voz.ipynb\" target=\"_parent\"><img src=\"https://colab.research.google.com/assets/colab-badge.svg\" alt=\"Open In Colab\"/></a>"
      ]
    },
    {
      "cell_type": "code",
      "execution_count": 2,
      "metadata": {
        "colab": {
          "base_uri": "https://localhost:8080/"
        },
        "id": "Wj3K2p-zrl6X",
        "outputId": "2222df7c-62c3-4278-9f8e-e6996831135b"
      },
      "outputs": [
        {
          "output_type": "stream",
          "name": "stdout",
          "text": [
            "Collecting SpeechRecognition\n",
            "  Downloading SpeechRecognition-3.11.0-py2.py3-none-any.whl.metadata (28 kB)\n",
            "Requirement already satisfied: requests>=2.26.0 in /usr/local/lib/python3.10/dist-packages (from SpeechRecognition) (2.32.3)\n",
            "Requirement already satisfied: typing-extensions in /usr/local/lib/python3.10/dist-packages (from SpeechRecognition) (4.12.2)\n",
            "Requirement already satisfied: charset-normalizer<4,>=2 in /usr/local/lib/python3.10/dist-packages (from requests>=2.26.0->SpeechRecognition) (3.4.0)\n",
            "Requirement already satisfied: idna<4,>=2.5 in /usr/local/lib/python3.10/dist-packages (from requests>=2.26.0->SpeechRecognition) (3.10)\n",
            "Requirement already satisfied: urllib3<3,>=1.21.1 in /usr/local/lib/python3.10/dist-packages (from requests>=2.26.0->SpeechRecognition) (2.2.3)\n",
            "Requirement already satisfied: certifi>=2017.4.17 in /usr/local/lib/python3.10/dist-packages (from requests>=2.26.0->SpeechRecognition) (2024.8.30)\n",
            "Downloading SpeechRecognition-3.11.0-py2.py3-none-any.whl (32.8 MB)\n",
            "\u001b[2K   \u001b[90m━━━━━━━━━━━━━━━━━━━━━━━━━━━━━━━━━━━━━━━━\u001b[0m \u001b[32m32.8/32.8 MB\u001b[0m \u001b[31m14.7 MB/s\u001b[0m eta \u001b[36m0:00:00\u001b[0m\n",
            "\u001b[?25hInstalling collected packages: SpeechRecognition\n",
            "Successfully installed SpeechRecognition-3.11.0\n"
          ]
        }
      ],
      "source": [
        "!pip install SpeechRecognition\n",
        "\n"
      ]
    },
    {
      "cell_type": "code",
      "source": [
        "import wave\n",
        "\n",
        "# Nome do arquivo de áudio a ser transcrito\n",
        "arquivo_audio = \"audio.wav\"  # Altere para o nome do arquivo de áudio que você possui\n",
        "\n",
        "try:\n",
        "    with wave.open(arquivo_audio, \"rb\") as wf:\n",
        "        # Realize operações com o arquivo de áudio aqui\n",
        "        print(\"Arquivo de áudio aberto com sucesso!\")\n",
        "except Exception as e:\n",
        "    print(\"Erro ao abrir o arquivo de áudio:\", e)\n"
      ],
      "metadata": {
        "colab": {
          "base_uri": "https://localhost:8080/"
        },
        "id": "JViWkiietlnY",
        "outputId": "6ba9a0f7-2c93-48af-90fb-67be947e34d6"
      },
      "execution_count": 6,
      "outputs": [
        {
          "output_type": "stream",
          "name": "stdout",
          "text": [
            "Arquivo de áudio aberto com sucesso!\n"
          ]
        }
      ]
    },
    {
      "cell_type": "code",
      "source": [
        "import speech_recognition as sr\n",
        "\n",
        "def transcrever_audio(arquivo):\n",
        "    recognizer = sr.Recognizer()\n",
        "\n",
        "    with sr.AudioFile(arquivo) as source:\n",
        "        audio_data = recognizer.record(source)\n",
        "\n",
        "    try:\n",
        "        texto_transcrito = recognizer.recognize_google(audio_data, language=\"pt-BR\")\n",
        "        print(\"Texto transcrito:\", texto_transcrito)\n",
        "    except sr.UnknownValueError:\n",
        "        print(\"Não foi possível entender a fala\")\n",
        "    except sr.RequestError as e:\n",
        "        print(\"Erro ao solicitar a API do Google Speech Recognition; {0}\".format(e))\n",
        "\n",
        "# Nome do arquivo de áudio a ser transcrito\n",
        "arquivo_audio = \"audio.wav\"  # Altere para o nome do arquivo de áudio que você possui\n",
        "\n",
        "# Realizar o reconhecimento de fala\n",
        "transcrever_audio(arquivo_audio)\n"
      ],
      "metadata": {
        "colab": {
          "base_uri": "https://localhost:8080/"
        },
        "id": "AtNmRNAmuG6_",
        "outputId": "dbeef675-5858-4901-8ae7-2006a8ce7c2e"
      },
      "execution_count": 5,
      "outputs": [
        {
          "output_type": "stream",
          "name": "stdout",
          "text": [
            "Texto transcrito: hora\n"
          ]
        }
      ]
    },
    {
      "cell_type": "code",
      "source": [
        "#include <Wire.h>\n",
        "#include <Adafruit_GFX.h>\n",
        "#include <Adafruit_SSD1306.h>\n",
        "#include <MAX30100_PulseOximeter.h>\n",
        "\n",
        "#define SCREEN_WIDTH 128 // OLED display width, in pixels\n",
        "#define SCREEN_HEIGHT 64 // OLED display height, in pixels\n",
        "\n",
        "// Declaration for an SSD1306 display connected to I2C 0x3C\n",
        "Adafruit_SSD1306 display(SCREEN_WIDTH, SCREEN_HEIGHT, &Wire, -1);\n",
        "\n",
        "// Create a MAX30100 object\n",
        "MAX30100_PulseOximeter pox;\n",
        "\n",
        "void setup() {\n",
        "  // Initialize the OLED display\n",
        "  display.begin(SSD1306_SWITCHCAPVCC, 0x3C);\n",
        "  display.clearDisplay();\n",
        "  display.setTextColor(WHITE);\n",
        "  display.setTextSize(2);\n",
        "  display.setCursor(0,0);\n",
        "  display.println(\"Iniciando...\");\n",
        "  display.display();\n",
        "\n",
        "  // Initialize the pulse oximeter\n",
        "  pox.begin();\n",
        "  pox.setup();\n",
        "}\n",
        "\n",
        "void loop() {\n",
        "  // Get a new reading\n",
        "  if (pox.checkForData()) {\n",
        "    // Get the heart rate and SPO2 level\n",
        "    int bpm = pox.getHeartRate();\n",
        "    int spo2 = pox.getSpO2();\n",
        "\n",
        "    // Display the results\n",
        "    display.clearDisplay();\n",
        "    display.setCursor(0,0);\n",
        "    display.print(\"BPM: \");\n",
        "    display.println(bpm);\n",
        "    display.print(\"SPO2: \");\n",
        "    display.println(spo2);\n",
        "    display.display();\n",
        "  }\n",
        "}"
      ],
      "metadata": {
        "colab": {
          "base_uri": "https://localhost:8080/",
          "height": 106
        },
        "id": "Y4GODS02vvSG",
        "outputId": "9609d9b0-7bf7-4ff5-e7a6-458c321e3772"
      },
      "execution_count": 7,
      "outputs": [
        {
          "output_type": "error",
          "ename": "SyntaxError",
          "evalue": "invalid syntax (<ipython-input-7-15358896f39f>, line 9)",
          "traceback": [
            "\u001b[0;36m  File \u001b[0;32m\"<ipython-input-7-15358896f39f>\"\u001b[0;36m, line \u001b[0;32m9\u001b[0m\n\u001b[0;31m    // Declaration for an SSD1306 display connected to I2C 0x3C\u001b[0m\n\u001b[0m    ^\u001b[0m\n\u001b[0;31mSyntaxError\u001b[0m\u001b[0;31m:\u001b[0m invalid syntax\n"
          ]
        }
      ]
    }
  ]
}